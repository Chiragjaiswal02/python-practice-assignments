{
 "cells": [
  {
   "cell_type": "code",
   "execution_count": 1,
   "id": "40595861-ee8f-4d4d-8722-cbc2674adeaa",
   "metadata": {},
   "outputs": [],
   "source": [
    "import pandas as pd\n",
    "import numpy as np"
   ]
  },
  {
   "cell_type": "code",
   "execution_count": 2,
   "id": "33f7e4b2-47af-4c6c-ad36-502935e51861",
   "metadata": {},
   "outputs": [],
   "source": [
    "random_array = np.random.rand(5,5)"
   ]
  },
  {
   "cell_type": "code",
   "execution_count": 4,
   "id": "94928a70-a12f-4add-b094-82b799582b7a",
   "metadata": {},
   "outputs": [
    {
     "data": {
      "text/plain": [
       "array([[0.47934839, 0.37716803, 0.32239909, 0.61318732, 0.20687802],\n",
       "       [0.51977033, 0.74531588, 0.58218369, 0.43310355, 0.42004265],\n",
       "       [0.0318697 , 0.9940481 , 0.38060719, 0.2485422 , 0.53721042],\n",
       "       [0.80585175, 0.90867457, 0.99432837, 0.34893713, 0.92464378],\n",
       "       [0.94227222, 0.35748017, 0.98495029, 0.87478816, 0.93194094]])"
      ]
     },
     "execution_count": 4,
     "metadata": {},
     "output_type": "execute_result"
    }
   ],
   "source": [
    "random_array"
   ]
  },
  {
   "cell_type": "code",
   "execution_count": 5,
   "id": "cbc42f4e-f67e-409f-bea4-49a7784d7ee0",
   "metadata": {},
   "outputs": [],
   "source": [
    "exponential_array = np.exp(random_array)"
   ]
  },
  {
   "cell_type": "code",
   "execution_count": 7,
   "id": "02ce7dfe-af36-4b05-80f1-56ea690724cc",
   "metadata": {},
   "outputs": [
    {
     "data": {
      "text/plain": [
       "array([[1.61502169, 1.45814931, 1.38043558, 1.84630681, 1.22983255],\n",
       "       [1.68164138, 2.10710693, 1.78994284, 1.54203589, 1.52202647],\n",
       "       [1.03238298, 2.70215095, 1.46317274, 1.28215493, 1.7112266 ],\n",
       "       [2.23860241, 2.48103191, 2.70290836, 1.41756007, 2.52097007],\n",
       "       [2.56580486, 1.42972221, 2.67767877, 2.39836717, 2.53943328]])"
      ]
     },
     "execution_count": 7,
     "metadata": {},
     "output_type": "execute_result"
    }
   ],
   "source": [
    "exponential_array"
   ]
  },
  {
   "cell_type": "code",
   "execution_count": 9,
   "id": "3eae595a-a27f-45b5-a3f6-63d53dd056b9",
   "metadata": {},
   "outputs": [
    {
     "name": "stdout",
     "output_type": "stream",
     "text": [
      "Randome 5*5 Array:  [[0.47934839 0.37716803 0.32239909 0.61318732 0.20687802]\n",
      " [0.51977033 0.74531588 0.58218369 0.43310355 0.42004265]\n",
      " [0.0318697  0.9940481  0.38060719 0.2485422  0.53721042]\n",
      " [0.80585175 0.90867457 0.99432837 0.34893713 0.92464378]\n",
      " [0.94227222 0.35748017 0.98495029 0.87478816 0.93194094]]\n",
      "\n",
      "Exponential of each element:  [[1.61502169 1.45814931 1.38043558 1.84630681 1.22983255]\n",
      " [1.68164138 2.10710693 1.78994284 1.54203589 1.52202647]\n",
      " [1.03238298 2.70215095 1.46317274 1.28215493 1.7112266 ]\n",
      " [2.23860241 2.48103191 2.70290836 1.41756007 2.52097007]\n",
      " [2.56580486 1.42972221 2.67767877 2.39836717 2.53943328]]\n"
     ]
    }
   ],
   "source": [
    "print(\"Randome 5*5 Array: \", random_array)\n",
    "print(\"\\nExponential of each element: \", exponential_array)"
   ]
  },
  {
   "cell_type": "code",
   "execution_count": null,
   "id": "0725fb66-ddea-4a1d-8dfb-80b289e44f55",
   "metadata": {},
   "outputs": [],
   "source": []
  }
 ],
 "metadata": {
  "kernelspec": {
   "display_name": "Python 3 (ipykernel)",
   "language": "python",
   "name": "python3"
  },
  "language_info": {
   "codemirror_mode": {
    "name": "ipython",
    "version": 3
   },
   "file_extension": ".py",
   "mimetype": "text/x-python",
   "name": "python",
   "nbconvert_exporter": "python",
   "pygments_lexer": "ipython3",
   "version": "3.13.5"
  }
 },
 "nbformat": 4,
 "nbformat_minor": 5
}
