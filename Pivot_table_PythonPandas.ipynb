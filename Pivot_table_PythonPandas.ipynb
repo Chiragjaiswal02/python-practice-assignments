{
 "cells": [
  {
   "cell_type": "code",
   "execution_count": 2,
   "id": "a6df5e7b-b07c-45c0-8326-046a467f6436",
   "metadata": {},
   "outputs": [],
   "source": [
    "import pandas as pd\n",
    "import numpy as nm"
   ]
  },
  {
   "cell_type": "code",
   "execution_count": 3,
   "id": "54f5b567-7b9a-41fd-ae3b-daf43c788168",
   "metadata": {},
   "outputs": [],
   "source": [
    "data = {\n",
    "    \"Student\": [\n",
    "        \"Aman\", \"Bina\", \"Chirag\", \"Deepa\", \"Esha\",\n",
    "        \"Farhan\", \"Gita\", \"Harsh\", \"Ira\", \"Jay\",\n",
    "        \"Kriti\", \"Laksh\", \"Maya\", \"Nikhil\", \"Om\",\n",
    "        \"Pooja\", \"Quinn\", \"Ravi\", \"Sneha\", \"Tina\"\n",
    "    ],\n",
    "    \"Subject\": [\n",
    "        \"Math\", \"Science\", \"English\", \"History\", \"Geography\",\n",
    "        \"Math\", \"Science\", \"English\", \"History\", \"Geography\",\n",
    "        \"Math\", \"Science\", \"English\", \"History\", \"Geography\",\n",
    "        \"Math\", \"Science\", \"English\", \"History\", \"Geography\"\n",
    "    ],\n",
    "    \"Marks\": [\n",
    "        88, 92, 76, 85, 90,\n",
    "        79, 83, 91, 77, 89,\n",
    "        93, 84, 72, 87, 95,\n",
    "        80, 85, 78, 88, 94\n",
    "    ]\n",
    "}\n"
   ]
  },
  {
   "cell_type": "code",
   "execution_count": 4,
   "id": "a447e90a-37d3-4bba-b7a4-d73707c9dc80",
   "metadata": {},
   "outputs": [
    {
     "name": "stdout",
     "output_type": "stream",
     "text": [
      "{'Student': ['Aman', 'Bina', 'Chirag', 'Deepa', 'Esha', 'Farhan', 'Gita', 'Harsh', 'Ira', 'Jay', 'Kriti', 'Laksh', 'Maya', 'Nikhil', 'Om', 'Pooja', 'Quinn', 'Ravi', 'Sneha', 'Tina'], 'Subject': ['Math', 'Science', 'English', 'History', 'Geography', 'Math', 'Science', 'English', 'History', 'Geography', 'Math', 'Science', 'English', 'History', 'Geography', 'Math', 'Science', 'English', 'History', 'Geography'], 'Marks': [88, 92, 76, 85, 90, 79, 83, 91, 77, 89, 93, 84, 72, 87, 95, 80, 85, 78, 88, 94]}\n"
     ]
    }
   ],
   "source": [
    "print(data)"
   ]
  },
  {
   "cell_type": "code",
   "execution_count": 5,
   "id": "43573f72-3db4-44b8-8d14-c9348536410d",
   "metadata": {},
   "outputs": [],
   "source": [
    "df = pd.DataFrame(data)"
   ]
  },
  {
   "cell_type": "code",
   "execution_count": 6,
   "id": "41bfc3b8-7337-47fe-a135-6c709beb3c68",
   "metadata": {},
   "outputs": [
    {
     "data": {
      "text/html": [
       "<div>\n",
       "<style scoped>\n",
       "    .dataframe tbody tr th:only-of-type {\n",
       "        vertical-align: middle;\n",
       "    }\n",
       "\n",
       "    .dataframe tbody tr th {\n",
       "        vertical-align: top;\n",
       "    }\n",
       "\n",
       "    .dataframe thead th {\n",
       "        text-align: right;\n",
       "    }\n",
       "</style>\n",
       "<table border=\"1\" class=\"dataframe\">\n",
       "  <thead>\n",
       "    <tr style=\"text-align: right;\">\n",
       "      <th></th>\n",
       "      <th>Student</th>\n",
       "      <th>Subject</th>\n",
       "      <th>Marks</th>\n",
       "    </tr>\n",
       "  </thead>\n",
       "  <tbody>\n",
       "    <tr>\n",
       "      <th>0</th>\n",
       "      <td>Aman</td>\n",
       "      <td>Math</td>\n",
       "      <td>88</td>\n",
       "    </tr>\n",
       "    <tr>\n",
       "      <th>1</th>\n",
       "      <td>Bina</td>\n",
       "      <td>Science</td>\n",
       "      <td>92</td>\n",
       "    </tr>\n",
       "    <tr>\n",
       "      <th>2</th>\n",
       "      <td>Chirag</td>\n",
       "      <td>English</td>\n",
       "      <td>76</td>\n",
       "    </tr>\n",
       "    <tr>\n",
       "      <th>3</th>\n",
       "      <td>Deepa</td>\n",
       "      <td>History</td>\n",
       "      <td>85</td>\n",
       "    </tr>\n",
       "    <tr>\n",
       "      <th>4</th>\n",
       "      <td>Esha</td>\n",
       "      <td>Geography</td>\n",
       "      <td>90</td>\n",
       "    </tr>\n",
       "    <tr>\n",
       "      <th>5</th>\n",
       "      <td>Farhan</td>\n",
       "      <td>Math</td>\n",
       "      <td>79</td>\n",
       "    </tr>\n",
       "    <tr>\n",
       "      <th>6</th>\n",
       "      <td>Gita</td>\n",
       "      <td>Science</td>\n",
       "      <td>83</td>\n",
       "    </tr>\n",
       "    <tr>\n",
       "      <th>7</th>\n",
       "      <td>Harsh</td>\n",
       "      <td>English</td>\n",
       "      <td>91</td>\n",
       "    </tr>\n",
       "    <tr>\n",
       "      <th>8</th>\n",
       "      <td>Ira</td>\n",
       "      <td>History</td>\n",
       "      <td>77</td>\n",
       "    </tr>\n",
       "    <tr>\n",
       "      <th>9</th>\n",
       "      <td>Jay</td>\n",
       "      <td>Geography</td>\n",
       "      <td>89</td>\n",
       "    </tr>\n",
       "    <tr>\n",
       "      <th>10</th>\n",
       "      <td>Kriti</td>\n",
       "      <td>Math</td>\n",
       "      <td>93</td>\n",
       "    </tr>\n",
       "    <tr>\n",
       "      <th>11</th>\n",
       "      <td>Laksh</td>\n",
       "      <td>Science</td>\n",
       "      <td>84</td>\n",
       "    </tr>\n",
       "    <tr>\n",
       "      <th>12</th>\n",
       "      <td>Maya</td>\n",
       "      <td>English</td>\n",
       "      <td>72</td>\n",
       "    </tr>\n",
       "    <tr>\n",
       "      <th>13</th>\n",
       "      <td>Nikhil</td>\n",
       "      <td>History</td>\n",
       "      <td>87</td>\n",
       "    </tr>\n",
       "    <tr>\n",
       "      <th>14</th>\n",
       "      <td>Om</td>\n",
       "      <td>Geography</td>\n",
       "      <td>95</td>\n",
       "    </tr>\n",
       "    <tr>\n",
       "      <th>15</th>\n",
       "      <td>Pooja</td>\n",
       "      <td>Math</td>\n",
       "      <td>80</td>\n",
       "    </tr>\n",
       "    <tr>\n",
       "      <th>16</th>\n",
       "      <td>Quinn</td>\n",
       "      <td>Science</td>\n",
       "      <td>85</td>\n",
       "    </tr>\n",
       "    <tr>\n",
       "      <th>17</th>\n",
       "      <td>Ravi</td>\n",
       "      <td>English</td>\n",
       "      <td>78</td>\n",
       "    </tr>\n",
       "    <tr>\n",
       "      <th>18</th>\n",
       "      <td>Sneha</td>\n",
       "      <td>History</td>\n",
       "      <td>88</td>\n",
       "    </tr>\n",
       "    <tr>\n",
       "      <th>19</th>\n",
       "      <td>Tina</td>\n",
       "      <td>Geography</td>\n",
       "      <td>94</td>\n",
       "    </tr>\n",
       "  </tbody>\n",
       "</table>\n",
       "</div>"
      ],
      "text/plain": [
       "   Student    Subject  Marks\n",
       "0     Aman       Math     88\n",
       "1     Bina    Science     92\n",
       "2   Chirag    English     76\n",
       "3    Deepa    History     85\n",
       "4     Esha  Geography     90\n",
       "5   Farhan       Math     79\n",
       "6     Gita    Science     83\n",
       "7    Harsh    English     91\n",
       "8      Ira    History     77\n",
       "9      Jay  Geography     89\n",
       "10   Kriti       Math     93\n",
       "11   Laksh    Science     84\n",
       "12    Maya    English     72\n",
       "13  Nikhil    History     87\n",
       "14      Om  Geography     95\n",
       "15   Pooja       Math     80\n",
       "16   Quinn    Science     85\n",
       "17    Ravi    English     78\n",
       "18   Sneha    History     88\n",
       "19    Tina  Geography     94"
      ]
     },
     "execution_count": 6,
     "metadata": {},
     "output_type": "execute_result"
    }
   ],
   "source": [
    "df"
   ]
  },
  {
   "cell_type": "code",
   "execution_count": 9,
   "id": "5d2acadf-e546-47bf-86b8-2302e08d58ba",
   "metadata": {},
   "outputs": [],
   "source": [
    "df.to_excel('Students.xlsx', sheet_name='Sheet1', index=False)"
   ]
  },
  {
   "cell_type": "code",
   "execution_count": 18,
   "id": "20210d28-0f9e-461d-97ea-cb59c0acb5b6",
   "metadata": {},
   "outputs": [],
   "source": [
    "pivoted = df.pivot_table(index=\"Marks\", columns=\"Subject\", values=\"Student\", aggfunc=\"first\")"
   ]
  },
  {
   "cell_type": "code",
   "execution_count": 20,
   "id": "e516e93f-9d02-46d4-839c-61caaebca083",
   "metadata": {},
   "outputs": [
    {
     "name": "stdout",
     "output_type": "stream",
     "text": [
      "Subject English Geography History    Math Science\n",
      "Marks                                            \n",
      "72         Maya       NaN     NaN     NaN     NaN\n",
      "76       Chirag       NaN     NaN     NaN     NaN\n",
      "77          NaN       NaN     Ira     NaN     NaN\n",
      "78         Ravi       NaN     NaN     NaN     NaN\n",
      "79          NaN       NaN     NaN  Farhan     NaN\n",
      "80          NaN       NaN     NaN   Pooja     NaN\n",
      "83          NaN       NaN     NaN     NaN    Gita\n",
      "84          NaN       NaN     NaN     NaN   Laksh\n",
      "85          NaN       NaN   Deepa     NaN   Quinn\n",
      "87          NaN       NaN  Nikhil     NaN     NaN\n",
      "88          NaN       NaN   Sneha    Aman     NaN\n",
      "89          NaN       Jay     NaN     NaN     NaN\n",
      "90          NaN      Esha     NaN     NaN     NaN\n",
      "91        Harsh       NaN     NaN     NaN     NaN\n",
      "92          NaN       NaN     NaN     NaN    Bina\n",
      "93          NaN       NaN     NaN   Kriti     NaN\n",
      "94          NaN      Tina     NaN     NaN     NaN\n",
      "95          NaN        Om     NaN     NaN     NaN\n"
     ]
    }
   ],
   "source": [
    "pivotedcall"
   ]
  },
  {
   "cell_type": "code",
   "execution_count": null,
   "id": "77560fb3-d975-4350-a01e-58b792080de0",
   "metadata": {},
   "outputs": [],
   "source": []
  }
 ],
 "metadata": {
  "kernelspec": {
   "display_name": "Python 3 (ipykernel)",
   "language": "python",
   "name": "python3"
  },
  "language_info": {
   "codemirror_mode": {
    "name": "ipython",
    "version": 3
   },
   "file_extension": ".py",
   "mimetype": "text/x-python",
   "name": "python",
   "nbconvert_exporter": "python",
   "pygments_lexer": "ipython3",
   "version": "3.13.5"
  }
 },
 "nbformat": 4,
 "nbformat_minor": 5
}
